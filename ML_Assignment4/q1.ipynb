{
 "cells": [
  {
   "cell_type": "markdown",
   "metadata": {},
   "source": [
    "# Principal Component Analysis\n",
    "The goal of this question is to build a conceptual understanding of dimensionality reduction using PCA and implement it on a toy dataset. You’ll only have to use numpy and matplotlib for this question."
   ]
  },
  {
   "cell_type": "code",
   "execution_count": 1,
   "metadata": {},
   "outputs": [],
   "source": [
    "####This \n",
    "import csv\n",
    "import numpy as np\n",
    "import pandas as pd\n",
    "import matplotlib.pyplot as plt\n",
    "import math\n",
    "import time\n",
    "import random\n",
    "from numpy import linalg as LA"
   ]
  },
  {
   "cell_type": "code",
   "execution_count": 2,
   "metadata": {},
   "outputs": [
    {
     "name": "stdout",
     "output_type": "stream",
     "text": [
      "-0.0\n",
      "1.0\n",
      "-0.0\n",
      "1.0\n",
      "0.0\n",
      "1.0\n",
      "-0.0\n",
      "1.0\n",
      "0.0\n",
      "1.0\n",
      "0.0\n",
      "1.0\n",
      "-0.0\n",
      "1.0\n",
      "-0.0\n",
      "1.0\n",
      "(150, 8)\n"
     ]
    }
   ],
   "source": [
    "####This \n",
    "# (a) Load data (features)\n",
    "#mean0\n",
    "#std0\n",
    "def load_data(npyfile):\n",
    "    dataFromFile = np.load(npyfile)\n",
    "    normal = np.linalg.norm(dataFromFile)\n",
    "    samples, feature = dataFromFile.shape\n",
    "    normlist = []\n",
    "    Meanlist = []\n",
    "    for feat in range(feature):\n",
    "        mean = np.mean(dataFromFile[:,feat])\n",
    "        std = np.std(dataFromFile[:,feat])\n",
    "        featureVector = dataFromFile[:,feat]\n",
    "        NormMean0Std1 = (featureVector-mean)*(1/std)\n",
    "        NormMeanDataV1 = (featureVector-mean)\n",
    "        print(round(np.mean(NormMean0Std1),10))\n",
    "        print(round(np.std(NormMean0Std1),10))\n",
    "        NormList = NormMean0Std1.tolist()\n",
    "        NormMeanDataV2 = NormMeanDataV1.tolist()\n",
    "        Meanlist.append(NormMeanDataV2)\n",
    "        normlist.append(NormList)\n",
    "    \n",
    "    NormMeanData = np.transpose(np.array(Meanlist))\n",
    "    NormMatrixTranspose = np.array(normlist)\n",
    "    NormFinal = np.transpose(NormMatrixTranspose)\n",
    "    print(NormFinal.shape)\n",
    "    data = NormFinal\n",
    "    NonNormData = dataFromFile\n",
    "    return data, NormMeanData, NonNormData\n",
    "\n",
    "feat, NormMeanData, NonNormData = load_data(\"features.npy\")"
   ]
  },
  {
   "cell_type": "code",
   "execution_count": 3,
   "metadata": {},
   "outputs": [
    {
     "name": "stdout",
     "output_type": "stream",
     "text": [
      "[ 4.74298961e+00  2.29585309e+00  7.76910512e-01  2.04172901e-01\n",
      "  3.37651661e-02 -1.75243456e-16  2.86910531e-16 -5.44809950e-17]\n",
      "[[-0.39124937  0.13884872 -0.46160937  0.58034539  0.24934936 -0.40069986\n",
      "  -0.02256515  0.18043453]\n",
      " [ 0.11687696 -0.4391715  -0.78711289 -0.2905579  -0.12725786  0.01138973\n",
      "   0.13157531  0.17592915]\n",
      " [-0.40655289  0.29080021 -0.13961871 -0.12636707 -0.54994554 -0.0053785\n",
      "   0.38948762 -0.26576102]\n",
      " [-0.39944906  0.26454833 -0.16206048 -0.54404218  0.49904279  0.35157176\n",
      "  -0.37925083 -0.36099212]\n",
      " [-0.3778555  -0.35426671  0.07790627  0.42060984  0.12822569  0.6296306\n",
      "   0.03545723 -0.28352169]\n",
      " [-0.09816172 -0.64299795  0.11941452 -0.04972667 -0.0795516  -0.03130771\n",
      "  -0.36166983 -0.48358818]\n",
      " [-0.45509399 -0.03231459  0.12200908 -0.08034689 -0.51935676  0.00592791\n",
      "  -0.42927385  0.29290856]\n",
      " [-0.38587285 -0.30545597  0.29393481 -0.28457653  0.27864817 -0.56411724\n",
      "   0.6085299   0.57923275]]\n",
      "[[ 1.00671141 -0.11010327  0.87760486  0.82344326  0.61123001 -0.07220205\n",
      "   0.776564    0.48190166]\n",
      " [-0.11010327  1.00671141 -0.42333835 -0.358937    0.07459068  0.52416995\n",
      "  -0.28731011 -0.06998508]\n",
      " [ 0.87760486 -0.42333835  1.00671141  0.96921855  0.4704054  -0.25019762\n",
      "   0.85445501  0.51042104]\n",
      " [ 0.82344326 -0.358937    0.96921855  1.00671141  0.44634059 -0.21541033\n",
      "   0.8273983   0.54484244]\n",
      " [ 0.61123001  0.07459068  0.4704054   0.44634059  1.00671141  0.70151359\n",
      "   0.84012249  0.93454714]\n",
      " [-0.07220205  0.52416995 -0.25019762 -0.21541033  0.70151359  1.00671141\n",
      "   0.2731165   0.659988  ]\n",
      " [ 0.776564   -0.28731011  0.85445501  0.8273983   0.84012249  0.2731165\n",
      "   1.00671141  0.88321462]\n",
      " [ 0.48190166 -0.06998508  0.51042104  0.54484244  0.93454714  0.659988\n",
      "   0.88321462  1.00671141]]\n",
      "[[ 4.74298961e+00  0.00000000e+00  0.00000000e+00  0.00000000e+00\n",
      "   0.00000000e+00  0.00000000e+00  0.00000000e+00  0.00000000e+00]\n",
      " [ 0.00000000e+00  2.29585309e+00  0.00000000e+00  0.00000000e+00\n",
      "   0.00000000e+00  0.00000000e+00  0.00000000e+00  0.00000000e+00]\n",
      " [ 0.00000000e+00  0.00000000e+00  7.76910512e-01  0.00000000e+00\n",
      "   0.00000000e+00  0.00000000e+00  0.00000000e+00  0.00000000e+00]\n",
      " [ 0.00000000e+00  0.00000000e+00  0.00000000e+00  2.04172901e-01\n",
      "   0.00000000e+00  0.00000000e+00  0.00000000e+00  0.00000000e+00]\n",
      " [ 0.00000000e+00  0.00000000e+00  0.00000000e+00  0.00000000e+00\n",
      "   3.37651661e-02  0.00000000e+00  0.00000000e+00  0.00000000e+00]\n",
      " [ 0.00000000e+00  0.00000000e+00  0.00000000e+00  0.00000000e+00\n",
      "   0.00000000e+00 -1.75243456e-16  0.00000000e+00  0.00000000e+00]\n",
      " [ 0.00000000e+00  0.00000000e+00  0.00000000e+00  0.00000000e+00\n",
      "   0.00000000e+00  0.00000000e+00  2.86910531e-16  0.00000000e+00]\n",
      " [ 0.00000000e+00  0.00000000e+00  0.00000000e+00  0.00000000e+00\n",
      "   0.00000000e+00  0.00000000e+00  0.00000000e+00 -5.44809950e-17]]\n"
     ]
    }
   ],
   "source": [
    "###new this\n",
    "# (b) Perform eigen decomposition and return eigen pairs in desecending order of eigen values\n",
    "def eigendecomp(feat):\n",
    "    samples, features = feat.shape\n",
    "    featT = np.transpose(feat)\n",
    "    Co = np.cov(featT)\n",
    "    eiganValues, eiganVectors = LA.eig(Co)\n",
    "    sorted_eig_vals = eiganValues \n",
    "    sorted_eig_vecs = eiganVectors\n",
    "    CoMatrix = np.diag(sorted_eig_vals)\n",
    "    print(sorted_eig_vals)\n",
    "    print(sorted_eig_vecs)\n",
    "    print(Co)\n",
    "    print(CoMatrix)\n",
    "    return (sorted_eig_vals, sorted_eig_vecs)\n",
    "\n",
    "EiganValues,EiganVectors = eigendecomp(feat)"
   ]
  },
  {
   "cell_type": "code",
   "execution_count": 4,
   "metadata": {},
   "outputs": [
    {
     "name": "stdout",
     "output_type": "stream",
     "text": [
      "(8, 8)\n",
      "[ 4.74298961e+00  2.29585309e+00  7.76910512e-01  2.04172901e-01\n",
      "  3.37651661e-02 -1.75243456e-16  2.86910531e-16 -5.44809950e-17]\n",
      "k = 1 Ei: 4.742989609365717 Variance: 0.5889212098295771\n",
      "k = 2 Ei: 2.2958530862227136 Variance: 0.873989634702231\n",
      "k = 3 Ei: 0.7769105123670551 Variance: 0.9704560233211404\n",
      "k = 4 Ei: 0.2041729011616391 Variance: 0.9958074918820439\n",
      "k = 5 Ei: 0.033765166050653564 Variance: 1.0\n",
      "k = 6 Ei: -1.7524345641154058e-16 Variance: 1.0\n",
      "k = 7 Ei: 2.869105305177416e-16 Variance: 1.0\n",
      "k = 8 Ei: -5.448099503364864e-17 Variance: 1.0\n"
     ]
    },
    {
     "data": {
      "image/png": "[encoded data removed]",
      "text/plain": [
       "<Figure size 432x288 with 1 Axes>"
      ]
     },
     "metadata": {
      "needs_background": "light"
     },
     "output_type": "display_data"
    }
   ],
   "source": [
    "# (c) Evaluate using variance_explained as the metric\n",
    "def eval(EiganVectors, EiganValues, feat):\n",
    "    print(EiganVectors.shape)\n",
    "    print(EiganValues)\n",
    "    totvar = np.sum(EiganValues)\n",
    "    samples,features = feat.shape\n",
    "    dimensionlist = []\n",
    "    varlist = []\n",
    "    klist = []\n",
    "    for feats in range(features):\n",
    "        klist.append(feats+1)\n",
    "        dimensionlist.append(EiganValues[feats])\n",
    "        print(\"k = \"+str(feats+1)+\" Ei: \"+str(EiganValues[feats])+\" Variance: \"+str((np.sum(np.array(dimensionlist)))/totvar))\n",
    "        varlist.append((np.sum(np.array(dimensionlist)))/totvar) \n",
    "\n",
    "    #print(varlist)\n",
    "    plt.plot(klist,varlist)\n",
    "    plt.xlabel(\"k dimension\")\n",
    "    plt.ylabel(\"Percent of Data Explained\")\n",
    "    plt.title(\"Varience Plot\")\n",
    "    plt.show()\n",
    "    \n",
    "eval(EiganVectors, EiganValues, feat)\n",
    "\n",
    "#I would use k = 2 as it explains 87.4% of the data\n",
    "    "
   ]
  },
  {
   "cell_type": "code",
   "execution_count": 5,
   "metadata": {},
   "outputs": [
    {
     "data": {
      "image/png": "[encoded data removed]",
      "text/plain": [
       "<Figure size 432x288 with 1 Axes>"
      ]
     },
     "metadata": {
      "needs_background": "light"
     },
     "output_type": "display_data"
    }
   ],
   "source": [
    "# (d) Visualize after projecting to 2-D space\n",
    "\n",
    "Matrix = feat@EiganVectors\n",
    "def viz(Matrix):\n",
    "    D2feat = Matrix\n",
    "    label0 = D2feat[1:50,0]\n",
    "    label1 = D2feat[51:100:,0]\n",
    "    label2 = D2feat[101:150:,0]\n",
    "    y0 = D2feat[1:50,1]\n",
    "    y1 = D2feat[51:100:,1]\n",
    "    y2 = D2feat[101:150:,1]\n",
    "\n",
    "    plt.scatter(label0,y0,c=\"blue\",label=\"label0\")\n",
    "    plt.scatter(label1,y1,c=\"orange\",label=\"label1\")\n",
    "    plt.scatter(label2,y2,c=\"green\",label=\"label2\")\n",
    "    plt.title(\"Data in 2-D subspace\")\n",
    "    plt.legend()\n",
    "    plt.show()\n",
    "\n",
    "viz(Matrix = Matrix)"
   ]
  },
  {
   "cell_type": "code",
   "execution_count": 6,
   "metadata": {},
   "outputs": [
    {
     "name": "stdout",
     "output_type": "stream",
     "text": [
      "[ 4.74298961e+00  2.29585309e+00  7.76910512e-01  2.04172901e-01\n",
      "  3.37651661e-02 -1.75243456e-16  2.86910531e-16 -5.44809950e-17]\n",
      "[[-0.39124937  0.13884872 -0.46160937  0.58034539  0.24934936 -0.40069986\n",
      "  -0.02256515  0.18043453]\n",
      " [ 0.11687696 -0.4391715  -0.78711289 -0.2905579  -0.12725786  0.01138973\n",
      "   0.13157531  0.17592915]\n",
      " [-0.40655289  0.29080021 -0.13961871 -0.12636707 -0.54994554 -0.0053785\n",
      "   0.38948762 -0.26576102]\n",
      " [-0.39944906  0.26454833 -0.16206048 -0.54404218  0.49904279  0.35157176\n",
      "  -0.37925083 -0.36099212]\n",
      " [-0.3778555  -0.35426671  0.07790627  0.42060984  0.12822569  0.6296306\n",
      "   0.03545723 -0.28352169]\n",
      " [-0.09816172 -0.64299795  0.11941452 -0.04972667 -0.0795516  -0.03130771\n",
      "  -0.36166983 -0.48358818]\n",
      " [-0.45509399 -0.03231459  0.12200908 -0.08034689 -0.51935676  0.00592791\n",
      "  -0.42927385  0.29290856]\n",
      " [-0.38587285 -0.30545597  0.29393481 -0.28457653  0.27864817 -0.56411724\n",
      "   0.6085299   0.57923275]]\n",
      "[[ 1.00671141 -0.11010327  0.87760486  0.82344326  0.61123001 -0.07220205\n",
      "   0.776564    0.48190166]\n",
      " [-0.11010327  1.00671141 -0.42333835 -0.358937    0.07459068  0.52416995\n",
      "  -0.28731011 -0.06998508]\n",
      " [ 0.87760486 -0.42333835  1.00671141  0.96921855  0.4704054  -0.25019762\n",
      "   0.85445501  0.51042104]\n",
      " [ 0.82344326 -0.358937    0.96921855  1.00671141  0.44634059 -0.21541033\n",
      "   0.8273983   0.54484244]\n",
      " [ 0.61123001  0.07459068  0.4704054   0.44634059  1.00671141  0.70151359\n",
      "   0.84012249  0.93454714]\n",
      " [-0.07220205  0.52416995 -0.25019762 -0.21541033  0.70151359  1.00671141\n",
      "   0.2731165   0.659988  ]\n",
      " [ 0.776564   -0.28731011  0.85445501  0.8273983   0.84012249  0.2731165\n",
      "   1.00671141  0.88321462]\n",
      " [ 0.48190166 -0.06998508  0.51042104  0.54484244  0.93454714  0.659988\n",
      "   0.88321462  1.00671141]]\n",
      "[[ 4.74298961e+00  0.00000000e+00  0.00000000e+00  0.00000000e+00\n",
      "   0.00000000e+00  0.00000000e+00  0.00000000e+00  0.00000000e+00]\n",
      " [ 0.00000000e+00  2.29585309e+00  0.00000000e+00  0.00000000e+00\n",
      "   0.00000000e+00  0.00000000e+00  0.00000000e+00  0.00000000e+00]\n",
      " [ 0.00000000e+00  0.00000000e+00  7.76910512e-01  0.00000000e+00\n",
      "   0.00000000e+00  0.00000000e+00  0.00000000e+00  0.00000000e+00]\n",
      " [ 0.00000000e+00  0.00000000e+00  0.00000000e+00  2.04172901e-01\n",
      "   0.00000000e+00  0.00000000e+00  0.00000000e+00  0.00000000e+00]\n",
      " [ 0.00000000e+00  0.00000000e+00  0.00000000e+00  0.00000000e+00\n",
      "   3.37651661e-02  0.00000000e+00  0.00000000e+00  0.00000000e+00]\n",
      " [ 0.00000000e+00  0.00000000e+00  0.00000000e+00  0.00000000e+00\n",
      "   0.00000000e+00 -1.75243456e-16  0.00000000e+00  0.00000000e+00]\n",
      " [ 0.00000000e+00  0.00000000e+00  0.00000000e+00  0.00000000e+00\n",
      "   0.00000000e+00  0.00000000e+00  2.86910531e-16  0.00000000e+00]\n",
      " [ 0.00000000e+00  0.00000000e+00  0.00000000e+00  0.00000000e+00\n",
      "   0.00000000e+00  0.00000000e+00  0.00000000e+00 -5.44809950e-17]]\n",
      "(8, 8)\n",
      "[ 4.74298961e+00  2.29585309e+00  7.76910512e-01  2.04172901e-01\n",
      "  3.37651661e-02 -1.75243456e-16  2.86910531e-16 -5.44809950e-17]\n",
      "k = 1 Ei: 4.742989609365717 Variance: 0.5889212098295771\n",
      "k = 2 Ei: 2.2958530862227136 Variance: 0.873989634702231\n",
      "k = 3 Ei: 0.7769105123670551 Variance: 0.9704560233211404\n",
      "k = 4 Ei: 0.2041729011616391 Variance: 0.9958074918820439\n",
      "k = 5 Ei: 0.033765166050653564 Variance: 1.0\n",
      "k = 6 Ei: -1.7524345641154058e-16 Variance: 1.0\n",
      "k = 7 Ei: 2.869105305177416e-16 Variance: 1.0\n",
      "k = 8 Ei: -5.448099503364864e-17 Variance: 1.0\n"
     ]
    },
    {
     "data": {
      "image/png": "[encoded data removed]",
      "text/plain": [
       "<Figure size 432x288 with 1 Axes>"
      ]
     },
     "metadata": {
      "needs_background": "light"
     },
     "output_type": "display_data"
    },
    {
     "data": {
      "image/png": "[encoded data removed]",
      "text/plain": [
       "<Figure size 432x288 with 1 Axes>"
      ]
     },
     "metadata": {
      "needs_background": "light"
     },
     "output_type": "display_data"
    }
   ],
   "source": [
    "def main(feat):\n",
    "    EiganValues,EiganVectors = eigendecomp(feat)\n",
    "    eval(EiganVectors, EiganValues, feat)\n",
    "    viz(Matrix=feat@EiganVectors)\n",
    "\n",
    "if __name__ == \"__main__\":\n",
    "    main(feat)"
   ]
  },
  {
   "cell_type": "raw",
   "metadata": {},
   "source": [
    "(e1): If the number of features is 1000 and the number of data points is 10, what will be the dimension of your covariance matrix? Can you suggest what can be changed to improve the performance?"
   ]
  },
  {
   "cell_type": "raw",
   "metadata": {},
   "source": [
    "#The covariance matrix would be 1000 by 1000\n",
    "#To improve performance reduce number of features by using the eiganvectors with the highest eiganvalue "
   ]
  },
  {
   "cell_type": "raw",
   "metadata": {},
   "source": [
    "(e2): Assume you have a dataset with the original dimensionality as 2 and you have to reduce it to 1. Provide a sample scatter plot of the original data (less than 10 datapoints) where PCA might produce misleading results. You can plot it by hand and then take a picture. In the next cell, switch to Markdown mode and use the command: ![title](<your_plot_file_path>)"
   ]
  },
  {
   "cell_type": "raw",
   "metadata": {},
   "source": [
    "PCA breaks down in conditions of high kurtosis as seen when there is no correlation between points and there is just a circular cluster\n",
    "badData = np.array([[1,2],[4,5],[7,8],[10,11]])\n",
    "x = badData[:,0]\n",
    "y = badData[:,1]\n",
    "print(badData.shape)"
   ]
  },
  {
   "cell_type": "code",
   "execution_count": 7,
   "metadata": {},
   "outputs": [
    {
     "data": {
      "image/png": "[encoded data removed]",
      "text/plain": [
       "<Figure size 432x288 with 1 Axes>"
      ]
     },
     "metadata": {
      "needs_background": "light"
     },
     "output_type": "display_data"
    },
    {
     "name": "stdout",
     "output_type": "stream",
     "text": [
      "(5, 2)\n",
      "[0.5 0.5]\n",
      "[[1. 0.]\n",
      " [0. 1.]]\n",
      "[[0.5 0. ]\n",
      " [0.  0.5]]\n",
      "[[0.5 0. ]\n",
      " [0.  0.5]]\n",
      "(2, 2)\n",
      "[0.5 0.5]\n",
      "k = 1 Ei: 0.5 Variance: 0.5\n",
      "k = 2 Ei: 0.5 Variance: 1.0\n"
     ]
    },
    {
     "data": {
      "image/png": "[encoded data removed]",
      "text/plain": [
       "<Figure size 432x288 with 1 Axes>"
      ]
     },
     "metadata": {
      "needs_background": "light"
     },
     "output_type": "display_data"
    },
    {
     "name": "stdout",
     "output_type": "stream",
     "text": [
      "(5, 1)\n",
      "[ 1.  0.  0. -1.  0.]\n",
      "[0 0 0 0 0]\n"
     ]
    },
    {
     "data": {
      "image/png": "[encoded data removed]",
      "text/plain": [
       "<Figure size 432x288 with 1 Axes>"
      ]
     },
     "metadata": {
      "needs_background": "light"
     },
     "output_type": "display_data"
    },
    {
     "name": "stdout",
     "output_type": "stream",
     "text": [
      "(5, 2)\n"
     ]
    }
   ],
   "source": [
    "badData = np.array([[1,0],[0,-1],[0,1],[-1,0],[0,0]])\n",
    "x = badData[:,0]\n",
    "y = badData[:,1]\n",
    "plt.scatter(x,y)\n",
    "plt.xlim([-3,3])\n",
    "plt.ylim([-3,3])\n",
    "plt.grid()\n",
    "plt.show()\n",
    "print(badData.shape)\n",
    "EiganValues_bad,EiganVectors_bad = eigendecomp(badData)\n",
    "eval(EiganVectors_bad, EiganValues_bad, badData)\n",
    "k=1\n",
    "dimMatrixT = []\n",
    "\n",
    "for dim in range(k):\n",
    "    dimMatrixT.append(EiganVectors_bad[dim])\n",
    "\n",
    "dimMatrix = np.transpose(dimMatrixT)\n",
    "D1feat = badData@dimMatrix\n",
    "print(D1feat.shape)\n",
    "label0 = D1feat[:,0]\n",
    "y0 = np.array([0,0,0,0,0])\n",
    "print(label0)\n",
    "print(y0)\n",
    "plt.scatter(label0,y0,c=\"blue\",label=\"label0\")\n",
    "plt.title(\"Data in 1-D subspace\")\n",
    "plt.show()\n",
    "print(badData.shape)"
   ]
  },
  {
   "cell_type": "code",
   "execution_count": null,
   "metadata": {},
   "outputs": [],
   "source": []
  },
  {
   "cell_type": "code",
   "execution_count": null,
   "metadata": {},
   "outputs": [],
   "source": []
  }
 ],
 "metadata": {
  "kernelspec": {
   "display_name": "Python 3",
   "language": "python",
   "name": "python3"
  },
  "language_info": {
   "codemirror_mode": {
    "name": "ipython",
    "version": 3
   },
   "file_extension": ".py",
   "mimetype": "text/x-python",
   "name": "python",
   "nbconvert_exporter": "python",
   "pygments_lexer": "ipython3",
   "version": "3.7.4"
  }
 },
 "nbformat": 4,
 "nbformat_minor": 2
}
