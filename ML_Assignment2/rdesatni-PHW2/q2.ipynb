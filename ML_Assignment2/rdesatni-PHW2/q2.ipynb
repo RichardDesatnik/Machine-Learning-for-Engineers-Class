{
 "cells": [
  {
   "cell_type": "code",
   "execution_count": 2,
   "metadata": {},
   "outputs": [
    {
     "data": {
      "image/png": "[encoded data removed]",
      "text/plain": [
       "<Figure size 432x288 with 1 Axes>"
      ]
     },
     "metadata": {
      "needs_background": "light"
     },
     "output_type": "display_data"
    }
   ],
   "source": [
    "import numpy as np\n",
    "import pandas as pd\n",
    "import matplotlib.pyplot as plt\n",
    "dataQ2 = np.load(\"data.npy\")\n",
    "import matplotlib.pyplot as plt\n",
    "import time\n",
    "import math\n",
    "#print(dataQ2)\n",
    "plt.scatter(dataQ2[:,0],dataQ2[:,1], alpha = 0.4)\n",
    "plt.show()"
   ]
  },
  {
   "cell_type": "code",
   "execution_count": 3,
   "metadata": {},
   "outputs": [
    {
     "name": "stdout",
     "output_type": "stream",
     "text": [
      "             X          Y\n",
      "0    52.819990  71.555381\n",
      "1    54.528225  70.479816\n",
      "2    52.436903  64.972205\n",
      "3    53.995550  68.647111\n",
      "4    50.882052  68.691166\n",
      "..         ...        ...\n",
      "135  56.078845  71.695843\n",
      "136  53.331914  64.097364\n",
      "137  61.176324  76.583584\n",
      "138  60.397733  74.893662\n",
      "139  65.542130  79.787110\n",
      "\n",
      "[140 rows x 2 columns]\n"
     ]
    }
   ],
   "source": [
    "data = np.load(\"data.npy\")\n",
    "DataFrame = pd.DataFrame(data, columns = ['X','Y'])\n",
    "print(DataFrame)"
   ]
  },
  {
   "cell_type": "code",
   "execution_count": 4,
   "metadata": {},
   "outputs": [
    {
     "name": "stdout",
     "output_type": "stream",
     "text": [
      "140\n"
     ]
    }
   ],
   "source": [
    "print(len(data))\n"
   ]
  },
  {
   "cell_type": "code",
   "execution_count": 5,
   "metadata": {},
   "outputs": [],
   "source": [
    "x = DataFrame.values[:140, 0]\n",
    "y = DataFrame.values[:140, 1:]"
   ]
  },
  {
   "cell_type": "code",
   "execution_count": 6,
   "metadata": {},
   "outputs": [
    {
     "name": "stdout",
     "output_type": "stream",
     "text": [
      "<class 'numpy.ndarray'>\n",
      "<class 'numpy.ndarray'>\n",
      "(140,)\n",
      "(140,)\n",
      "54.528225389549505\n",
      "70.47981622760551\n"
     ]
    }
   ],
   "source": [
    "print(type(x))\n",
    "print(type(y))\n",
    "#y = y.T\n",
    "ynew = y[:,0]\n",
    "y = ynew\n",
    "print(x.shape)\n",
    "print(y.shape)\n",
    "#print(x)\n",
    "total = x+y\n",
    "print(x[1])\n",
    "print(y[1])\n",
    "#print(total[1])\n",
    "#print(total.shape)\n",
    "#len(x)"
   ]
  },
  {
   "cell_type": "code",
   "execution_count": 7,
   "metadata": {},
   "outputs": [
    {
     "name": "stdout",
     "output_type": "stream",
     "text": [
      "[52.8199901  54.52822539 52.43690264 53.99555046 50.88205156 43.10332679\n",
      " 52.07851854 44.03117848 51.22455373 53.92957463 52.42968976 50.92451368\n",
      " 58.57022209 53.36138938 54.6279133  42.14858968 47.5370655  46.40488666\n",
      " 49.99354262 52.10536577 52.79844649 54.73795485 49.41236591 54.79581022\n",
      " 46.13538552 49.61186033 49.25512278 51.54671819 50.69523941 57.83162087\n",
      " 48.47505943 49.43811272 47.57453239 50.31446078 50.8110689  49.24335753\n",
      " 53.84838807 48.89213514 51.67044226 48.00978377 51.2056149  49.8611156\n",
      " 52.22857945 55.42225889 44.11447895 51.27393917 48.59441365 47.9668102\n",
      " 45.33408815 45.86241221 60.49885166 49.15132343 48.9812641  48.85536843\n",
      " 53.94182742 49.65093102 44.67384982 49.90116185 48.30214522 45.57072629\n",
      " 67.89168613 66.18532272 66.18532272 64.40684608 78.36867418 70.778456\n",
      " 63.24871406 66.42032911 67.82850118 58.466383   68.72762393 75.41859588\n",
      " 76.93058449 75.10929128 68.56246423 70.98230514 56.72854522 76.53451387\n",
      " 57.19049175 67.44959294 63.73816651 58.26257763 71.29296647 69.17051661\n",
      " 75.14595398 62.542924   62.542924   70.15841341 68.78424821 69.71419496\n",
      " 64.97593875 74.98487083 76.67686201 69.50429275 72.51998642 67.99725786\n",
      " 73.69306848 69.63628299 70.07309747 72.62655212 72.70615631 65.26154523\n",
      " 65.26154523 71.09646149 76.92261408 75.35824212 71.39331851 72.65328632\n",
      " 70.32583556 62.72142681 67.46852719 73.30551038 67.58397908 67.09871653\n",
      " 67.01173953 68.82615609 65.90568096 72.0467744  72.70999208 73.13542058\n",
      " 57.94368701 57.03834947 60.57117433 68.12085705 64.1087861  65.95359061\n",
      " 62.06812722 58.91953565 61.70683787 54.23674997 61.44211456 56.22640544\n",
      " 61.67803402 62.9652723  53.93462398 56.07884518 53.33191395 61.17632435\n",
      " 60.39773321 65.54213042]\n",
      "[71.55538081 70.47981623 64.97220518 68.64711133 68.69116621 57.38189449\n",
      " 68.51128821 60.41636622 67.19758521 71.82212773 71.10848048 64.26840877\n",
      " 77.237874   70.031552   72.46437592 53.93969588 63.95314277 61.30068653\n",
      " 67.0757033  67.94865819 69.62992631 71.49611271 65.52437835 70.32312783\n",
      " 61.40802931 67.80358628 64.11803427 67.40075397 71.51814105 76.07643341\n",
      " 66.26410522 65.33326777 63.53041305 68.65746477 65.0905201  66.09291501\n",
      " 72.08237751 63.46655362 69.32863723 60.35764448 67.74880687 68.26329867\n",
      " 70.07746843 74.56529971 57.54103635 68.22187003 66.63550225 64.92323645\n",
      " 59.6684387  60.87078558 78.8632067  64.68813727 67.25150113 68.25092516\n",
      " 72.39909466 65.29591002 60.58076411 66.69203861 63.76131513 60.97311683\n",
      " 81.8242318  78.58661117 78.58661117 77.89819512 97.02388281 85.9589908\n",
      " 84.10278921 80.24849783 82.03893476 80.29631025 85.0033183  90.82138589\n",
      " 93.44564174 91.63190357 83.57356357 85.0242113  74.98567534 93.18993648\n",
      " 72.59333421 88.91122568 75.89805354 73.43189791 82.2411197  82.00359281\n",
      " 88.33159424 77.35897232 77.35897232 87.29550136 81.4138836  82.9552537\n",
      " 77.69787294 91.41320697 92.93979644 81.25037001 82.71769851 78.60454673\n",
      " 86.19255448 87.92046712 84.83304628 85.92369891 98.09964068 79.11020636\n",
      " 86.03885991 85.76377473 92.67431159 91.93100652 89.5100744  86.26822241\n",
      " 84.65424143 79.56464075 85.5735014  90.60126519 80.64332941 82.20139969\n",
      " 80.50272214 81.86972112 74.47345065 84.66550824 88.79262832 89.12145074\n",
      " 71.8933739  71.68321874 73.96568303 84.8144429  78.82163739 83.3725025\n",
      " 77.73831181 74.25388255 78.33878608 67.7594708  73.21529778 67.61911164\n",
      " 78.44031685 76.20883587 72.1614015  71.69584272 64.09736441 76.58358392\n",
      " 74.89366208 79.78710991]\n"
     ]
    }
   ],
   "source": [
    "print(x)\n",
    "print(y)\n",
    "#x = np.array([-2,2,3,5,4])\n",
    "#y = np.array([2,4,8,11,17])\n",
    "#print(x)\n",
    "#print(y)"
   ]
  },
  {
   "cell_type": "code",
   "execution_count": 8,
   "metadata": {},
   "outputs": [],
   "source": [
    "def gradient_of_b0(x,y,b1,b0,alpha):\n",
    "    n, = x.shape\n",
    "    #n,m = x.shape\n",
    "    stuff = sum(-2*(y-((b1*x)+b0)))\n",
    "    b0 = b0 - alpha*((1/n)*stuff) \n",
    "    return b0\n",
    "\n",
    "#print(gradient_of_b0(x,y,b1,b0,alpha))"
   ]
  },
  {
   "cell_type": "code",
   "execution_count": 9,
   "metadata": {},
   "outputs": [],
   "source": [
    "def gradient_of_b1(x,y,b1,b0,alpha):\n",
    "    n, = x.shape \n",
    "    stuff = sum(np.multiply((-2*x),(y-((b1*x)+b0))))\n",
    "    b1 = b1 - alpha*((1/n)*stuff) \n",
    "    return b1\n",
    "\n",
    "#print(gradient_of_b1(x,y,b1,b0,alpha))"
   ]
  },
  {
   "cell_type": "code",
   "execution_count": 10,
   "metadata": {},
   "outputs": [],
   "source": [
    "def MSE_function(x,y,b0,b1):\n",
    "    n, = x.shape\n",
    "    stuff = (y-((b1*x)+b0))**2\n",
    "    MSE = (1/n)*sum(stuff)\n",
    "    return MSE\n"
   ]
  },
  {
   "cell_type": "code",
   "execution_count": 11,
   "metadata": {},
   "outputs": [
    {
     "name": "stdout",
     "output_type": "stream",
     "text": [
      "(140,)\n",
      "(140,)\n",
      "End Condition Reached\n",
      "1.2339262572009058\n",
      "1.233808298999193\n",
      "1\n",
      "My Theta0 is: 1.233808298999193 and my Theta1 is: 1.2339262572009058\n"
     ]
    },
    {
     "data": {
      "image/png": "[encoded data removed]",
      "text/plain": [
       "<Figure size 432x288 with 1 Axes>"
      ]
     },
     "metadata": {
      "needs_background": "light"
     },
     "output_type": "display_data"
    }
   ],
   "source": [
    "#prev = 10000000\n",
    "print(x.shape)\n",
    "print(y.shape)\n",
    "#max_iter = 10\n",
    "b1 = 0\n",
    "b0 = 0\n",
    "def checkfun(x,y,b0,b1,max_iter=100000,alpha=0.0001):\n",
    "    #n,m =x.shape\n",
    "    BreakCondition = 0\n",
    "    n, = x.shape \n",
    "    loss_history = []\n",
    "    #prev = 10000000\n",
    "    for iteration in range(int(max_iter)):\n",
    "        b1 = gradient_of_b1(x,y,b1,b0,alpha)\n",
    "        b0 = gradient_of_b0(x,y,b1,b0,alpha)\n",
    "        MSEnew = MSE_function(x, y, b1, b0)\n",
    "        loss_history.append(MSEnew)\n",
    "        if len(loss_history) < 2:\n",
    "            skip = 0\n",
    "        else:\n",
    "            EndCondition = loss_history[iteration-1] - loss_history[iteration] \n",
    "            if abs(EndCondition) < .0001:\n",
    "                print(\"End Condition Reached\")\n",
    "                BreakCondition = 1\n",
    "                break \n",
    "    return MSEnew, loss_history, b1, b0, BreakCondition \n",
    "\n",
    "MSEnew, loss_history, b1, b0, BreakCondition = checkfun(x,y,b0,b1)\n",
    "b0_real = b0\n",
    "b1_real = b1\n",
    "print(b1_real)\n",
    "print(b0_real)\n",
    "print(BreakCondition)\n",
    "plt.xlabel(\"Iteration\")\n",
    "plt.ylabel(\"Loss\")\n",
    "plt.plot(np.arange(len(loss_history)), loss_history)\n",
    "print(\"My Theta0 is: \" + str(b0_real) + \" and my Theta1 is: \" + str(b1_real))"
   ]
  },
  {
   "cell_type": "code",
   "execution_count": 12,
   "metadata": {},
   "outputs": [
    {
     "name": "stdout",
     "output_type": "stream",
     "text": [
      "(140,)\n",
      "(140,)\n"
     ]
    },
    {
     "data": {
      "text/plain": [
       "<matplotlib.legend.Legend at 0x1db9ddb0448>"
      ]
     },
     "execution_count": 12,
     "metadata": {},
     "output_type": "execute_result"
    },
    {
     "data": {
      "image/png": "[encoded data removed]",
      "text/plain": [
       "<Figure size 432x288 with 1 Axes>"
      ]
     },
     "metadata": {
      "needs_background": "light"
     },
     "output_type": "display_data"
    }
   ],
   "source": [
    "#prev = 10000000\n",
    "print(x.shape)\n",
    "print(y.shape)\n",
    "#max_iter = 10\n",
    "b1 = 5\n",
    "b0 = 5\n",
    "\n",
    "def checkfun(x,y,b0,b1,max_iter=100000,alpha=0.0001):\n",
    "    BreakCondition = 0\n",
    "    #alpha = .11\n",
    "    #n,m =x.shape\n",
    "    n, = x.shape \n",
    "    loss_history = []\n",
    "    #prev = 10000000\n",
    "    for iteration in range(int(max_iter)):\n",
    "        b1 = gradient_of_b1(x,y,b1,b0,alpha)\n",
    "        b0 = gradient_of_b0(x,y,b1,b0,alpha)\n",
    "        MSEnew = MSE_function(x, y, b1, b0)\n",
    "        loss_history.append(MSEnew)\n",
    "        if len(loss_history) < 2:\n",
    "            skip = 0\n",
    "        else:\n",
    "            EndCondition = loss_history[iteration-1] - loss_history[iteration]  \n",
    "            if abs(EndCondition) < .0001:\n",
    "                BreakCondition = 1\n",
    "                print(\"End Condition Reached\")\n",
    "                break \n",
    "    return MSEnew, loss_history, b1, b0, BreakCondition \n",
    "\n",
    "MSEnew_1, loss_history1, b1_1, b0_1, BreakCondition = checkfun(x,y,b0,b1,max_iter=15,alpha=0.0001)\n",
    "MSEnew_2, loss_history2, b1_1, b0_2, BreakCondition = checkfun(x,y,b0,b1,max_iter=15,alpha=0.00001)\n",
    "MSEnew_3, loss_history3, b1_3, b0_3, BreakCondition = checkfun(x,y,b0,b1,max_iter=15,alpha=0.0003)\n",
    "plt.xlabel(\"Iteration\")\n",
    "plt.ylabel(\"Loss\")\n",
    "plt.plot(np.arange(len(loss_history1)), loss_history1,c=\"blue\",label=\"Quickly Converging alpha=.0001\")\n",
    "plt.plot(np.arange(len(loss_history2)), loss_history2,c=\"green\", label=\"Takes a long time to Converge alpha=0.00001\")\n",
    "plt.plot(np.arange(len(loss_history3)), loss_history3,c=\"orange\", label=\"Diverging alpha=0.0003\")\n",
    "plt.legend()"
   ]
  },
  {
   "cell_type": "code",
   "execution_count": null,
   "metadata": {},
   "outputs": [],
   "source": [
    "#The best learning rate is .0001 because it converges the fastest. \n",
    "# Although .000001 converges it requires more iterations \n",
    "#.0003 diverges immediately "
   ]
  },
  {
   "cell_type": "code",
   "execution_count": 13,
   "metadata": {},
   "outputs": [
    {
     "name": "stdout",
     "output_type": "stream",
     "text": [
      "1.2339262572009058\n",
      "1.233808298999193\n"
     ]
    },
    {
     "data": {
      "text/plain": [
       "[<matplotlib.lines.Line2D at 0x1db9ddfdd88>]"
      ]
     },
     "execution_count": 13,
     "metadata": {},
     "output_type": "execute_result"
    },
    {
     "data": {
      "image/png": "[encoded data removed]",
      "text/plain": [
       "<Figure size 432x288 with 1 Axes>"
      ]
     },
     "metadata": {
      "needs_background": "light"
     },
     "output_type": "display_data"
    }
   ],
   "source": [
    "#plt.scatter(dataQ2[:,0],dataQ2[:,1], alpha = 0.4)\n",
    "plt.scatter(x,y, alpha = 0.4)\n",
    "xnew = np.array(range(40,80))\n",
    "print(b1_real)\n",
    "print(b0_real)\n",
    "ynew = b1_real*xnew + b0_real\n",
    "plt.plot(xnew,ynew, c=\"red\")"
   ]
  },
  {
   "cell_type": "code",
   "execution_count": 14,
   "metadata": {},
   "outputs": [],
   "source": [
    "#The best learning rate is 0.0001 because it converges quickly without diverging  "
   ]
  },
  {
   "cell_type": "code",
   "execution_count": 15,
   "metadata": {},
   "outputs": [
    {
     "name": "stderr",
     "output_type": "stream",
     "text": [
      "C:\\Users\\rdesa\\Anaconda3\\lib\\site-packages\\ipykernel_launcher.py:4: RuntimeWarning: overflow encountered in double_scalars\n",
      "  after removing the cwd from sys.path.\n",
      "C:\\Users\\rdesa\\Anaconda3\\lib\\site-packages\\ipykernel_launcher.py:3: RuntimeWarning: overflow encountered in square\n",
      "  This is separate from the ipykernel package so we can avoid doing imports until\n",
      "C:\\Users\\rdesa\\Anaconda3\\lib\\site-packages\\ipykernel_launcher.py:23: RuntimeWarning: invalid value encountered in double_scalars\n",
      "C:\\Users\\rdesa\\Anaconda3\\lib\\site-packages\\ipykernel_launcher.py:3: RuntimeWarning: overflow encountered in double_scalars\n",
      "  This is separate from the ipykernel package so we can avoid doing imports until\n",
      "C:\\Users\\rdesa\\Anaconda3\\lib\\site-packages\\ipykernel_launcher.py:3: RuntimeWarning: invalid value encountered in add\n",
      "  This is separate from the ipykernel package so we can avoid doing imports until\n"
     ]
    },
    {
     "name": "stdout",
     "output_type": "stream",
     "text": [
      "End Condition Reached\n",
      "Anything at this value or less will converge: \n",
      "0.0002631578947368421\n"
     ]
    }
   ],
   "source": [
    "b1 = 0\n",
    "b0 = 0\n",
    "BreakCondition = 0\n",
    "for value in range (100):\n",
    "    alpha=(1/((value+1)*100))\n",
    "\n",
    "    MSEnew_3, loss_history, b1_3, b0_3, BreakCondition = checkfun(x,y,b0,b1,max_iter=10000,alpha=alpha)\n",
    "    #print(BreakCondition)\n",
    "    if BreakCondition == 1:\n",
    "        print(\"Anything at this value or less will converge: \")\n",
    "        print(alpha)\n",
    "        break\n"
   ]
  },
  {
   "cell_type": "code",
   "execution_count": 16,
   "metadata": {},
   "outputs": [
    {
     "name": "stdout",
     "output_type": "stream",
     "text": [
      "End Condition Reached\n",
      "End Condition Reached\n",
      "End Condition Reached\n"
     ]
    },
    {
     "name": "stderr",
     "output_type": "stream",
     "text": [
      "C:\\Users\\rdesa\\Anaconda3\\lib\\site-packages\\ipykernel_launcher.py:4: RuntimeWarning: overflow encountered in double_scalars\n",
      "  after removing the cwd from sys.path.\n",
      "C:\\Users\\rdesa\\Anaconda3\\lib\\site-packages\\ipykernel_launcher.py:23: RuntimeWarning: invalid value encountered in double_scalars\n",
      "C:\\Users\\rdesa\\Anaconda3\\lib\\site-packages\\ipykernel_launcher.py:3: RuntimeWarning: overflow encountered in square\n",
      "  This is separate from the ipykernel package so we can avoid doing imports until\n",
      "C:\\Users\\rdesa\\Anaconda3\\lib\\site-packages\\ipykernel_launcher.py:3: RuntimeWarning: overflow encountered in double_scalars\n",
      "  This is separate from the ipykernel package so we can avoid doing imports until\n",
      "C:\\Users\\rdesa\\Anaconda3\\lib\\site-packages\\ipykernel_launcher.py:3: RuntimeWarning: invalid value encountered in add\n",
      "  This is separate from the ipykernel package so we can avoid doing imports until\n"
     ]
    },
    {
     "name": "stdout",
     "output_type": "stream",
     "text": [
      "Anything at this value or higher will Diverge: \n",
      "0.00030000000000000003\n"
     ]
    }
   ],
   "source": [
    "b1 = 0\n",
    "b0 = 0\n",
    "BreakCondition = 1\n",
    "for value in range (5000):\n",
    "    alpha=(value*.0001)\n",
    "    MSEnew_3, loss_history, b1_3, b0_3, BreakCondition = checkfun(x,y,b0,b1,max_iter=100000,alpha=alpha)\n",
    "    #print(BreakCondition)\n",
    "    if BreakCondition == 0:\n",
    "        print(\"Anything at this value or higher will Diverge: \")\n",
    "        print(alpha)\n",
    "        break"
   ]
  },
  {
   "cell_type": "code",
   "execution_count": 17,
   "metadata": {},
   "outputs": [
    {
     "data": {
      "text/plain": [
       "<matplotlib.legend.Legend at 0x1db9de6f288>"
      ]
     },
     "execution_count": 17,
     "metadata": {},
     "output_type": "execute_result"
    },
    {
     "data": {
      "image/png": "[encoded data removed]",
      "text/plain": [
       "<Figure size 432x288 with 1 Axes>"
      ]
     },
     "metadata": {
      "needs_background": "light"
     },
     "output_type": "display_data"
    }
   ],
   "source": [
    "MSEnew_1, loss_history1, b1_1, b0_1, BreakCondition = checkfun(x,y,b0,b1,max_iter=5000,alpha=0.00026)\n",
    "plt.xlabel(\"Iteration\")\n",
    "plt.ylabel(\"Loss\")\n",
    "plt.plot(np.arange(len(loss_history1)), loss_history1,c=\"blue\",label=\"Max Converging Alpha=.00026\")\n",
    "plt.legend()"
   ]
  },
  {
   "cell_type": "code",
   "execution_count": 18,
   "metadata": {},
   "outputs": [
    {
     "data": {
      "text/plain": [
       "<matplotlib.legend.Legend at 0x1db9de42d88>"
      ]
     },
     "execution_count": 18,
     "metadata": {},
     "output_type": "execute_result"
    },
    {
     "data": {
      "image/png": "[encoded data removed]",
      "text/plain": [
       "<Figure size 432x288 with 1 Axes>"
      ]
     },
     "metadata": {
      "needs_background": "light"
     },
     "output_type": "display_data"
    }
   ],
   "source": [
    "MSEnew_2, loss_history2, b1_1, b0_2, BreakCondition = checkfun(x,y,b0,b1,max_iter=100,alpha=0.0003)\n",
    "plt.xlabel(\"Iteration\")\n",
    "plt.ylabel(\"Loss\")\n",
    "plt.plot(np.arange(len(loss_history2)), loss_history2,c=\"green\", label=\"Minimum Diverge alpha=0.0003\")\n",
    "plt.legend()"
   ]
  },
  {
   "cell_type": "code",
   "execution_count": 19,
   "metadata": {},
   "outputs": [],
   "source": [
    "#The maximum learning rate is alpha=0.000263157 as this is the largest learning rate we can use without diverging "
   ]
  },
  {
   "cell_type": "code",
   "execution_count": 20,
   "metadata": {},
   "outputs": [],
   "source": [
    "#Batch Algorithm\n",
    "def Batch_Function(random = 0):\n",
    "    N = 140\n",
    "    batch_size = 20\n",
    "    idx = np.random.randint(random,N,[batch_size])\n",
    "    x_batch = x[idx]\n",
    "    y_batch = y[idx]\n",
    "    return x_batch, y_batch\n",
    "\n",
    "#Batch_Function(random=0)"
   ]
  },
  {
   "cell_type": "code",
   "execution_count": 21,
   "metadata": {},
   "outputs": [
    {
     "name": "stdout",
     "output_type": "stream",
     "text": [
      "[76.93058449 62.06812722 67.89168613 51.67044226 49.90116185 51.67044226\n",
      " 44.11447895 52.43690264 73.69306848 44.11447895 71.09646149 75.14595398\n",
      " 73.13542058 72.62655212 48.59441365 65.54213042 54.73795485 54.73795485\n",
      " 70.15841341 66.18532272]\n",
      "[93.44564174 77.73831181 81.8242318  69.32863723 66.69203861 69.32863723\n",
      " 57.54103635 64.97220518 86.19255448 57.54103635 85.76377473 88.33159424\n",
      " 89.12145074 85.92369891 66.63550225 79.78710991 71.49611271 71.49611271\n",
      " 87.29550136 78.58661117]\n"
     ]
    }
   ],
   "source": [
    "x_batch, y_batch = Batch_Function()\n",
    "\n",
    "print(x_batch)\n",
    "print(y_batch)"
   ]
  },
  {
   "cell_type": "code",
   "execution_count": 22,
   "metadata": {},
   "outputs": [],
   "source": [
    "def gradient_of_b0_batch(x_batch,y_batch,b1_batch,b0_batch,alpha):\n",
    "    n=20\n",
    "    #n = 140\n",
    "    #n,m = x.shape\n",
    "    stuff = sum(-2*(y_batch-((b1_batch*x_batch)+b0_batch)))\n",
    "    b0_batch = b0_batch - alpha*((1/n)*stuff) \n",
    "    return b0_batch"
   ]
  },
  {
   "cell_type": "code",
   "execution_count": 23,
   "metadata": {},
   "outputs": [],
   "source": [
    "def gradient_of_b1_batch(x_batch,y_batch,b1_batch,b0_batch,alpha):\n",
    "    n = 20\n",
    "    #n=140\n",
    "    stuff = sum(np.multiply((-2*x_batch),(y_batch-((b1_batch*x_batch)+b0_batch))))\n",
    "    b1_batch = b1_batch - alpha*((1/n)*stuff) \n",
    "    return b1_batch\n"
   ]
  },
  {
   "cell_type": "code",
   "execution_count": 24,
   "metadata": {},
   "outputs": [],
   "source": [
    "def MSE_function_batch(y_batch,x_batch,b0_batch,b1_batch):\n",
    "    n = 20\n",
    "    #n=140\n",
    "    #n,m = x.shape\n",
    "    #print(n)\n",
    "    stuff = (y_batch-((b1_batch*x_batch)+b0_batch))**2\n",
    "    MSE = (1/n)*sum(stuff)\n",
    "    return MSE"
   ]
  },
  {
   "cell_type": "code",
   "execution_count": 25,
   "metadata": {},
   "outputs": [
    {
     "name": "stdout",
     "output_type": "stream",
     "text": [
      "(140,)\n",
      "(140,)\n",
      "1.2376603528628431\n",
      "0.01520461446957262\n",
      "0\n",
      "My Theta0 from mini_batch is: 0.01520461446957262 and my Theta1 from mini_batch is:1.2376603528628431\n"
     ]
    },
    {
     "data": {
      "text/plain": [
       "[<matplotlib.lines.Line2D at 0x1db9dbcb108>]"
      ]
     },
     "execution_count": 25,
     "metadata": {},
     "output_type": "execute_result"
    },
    {
     "data": {
      "image/png": "[encoded data removed]",
      "text/plain": [
       "<Figure size 432x288 with 1 Axes>"
      ]
     },
     "metadata": {
      "needs_background": "light"
     },
     "output_type": "display_data"
    }
   ],
   "source": [
    "#prev = 10000000\n",
    "print(x.shape)\n",
    "print(y.shape)\n",
    "#max_iter = 10\n",
    "b1_batch = 0\n",
    "b0_batch = 0\n",
    "def checkfun_batch(x_batch,y_batch,b0_batch,b1_batch,max_iter=100,alpha=0.0001):\n",
    "    #n,m =x.shape\n",
    "    BreakCondition = 0\n",
    "    n = 20\n",
    "    #n = 140\n",
    "    loss_history = []\n",
    "    #prev = 10000000\n",
    "    for iteration in range(int(max_iter)):\n",
    "        #Randomly Generated Batch \n",
    "        #y_batch, x_batch = Batch_Function()\n",
    "        b1_batch = gradient_of_b1_batch(x_batch,y_batch,b1_batch,b0_batch,alpha)\n",
    "        b0_batch = gradient_of_b0_batch(x_batch,y_batch,b1_batch,b0_batch,alpha)\n",
    "        MSEnew = MSE_function_batch(x_batch, y_batch, b1_batch, b0_batch)\n",
    "        loss_history.append(MSEnew)\n",
    "        if len(loss_history) < 2:\n",
    "            skip = 0\n",
    "        else:\n",
    "            EndCondition = loss_history[iteration-1] - loss_history[iteration] \n",
    "            if abs(EndCondition) < .0001:\n",
    "                print(\"End Condition Reached\")\n",
    "                BreakCondition = 1\n",
    "                break \n",
    "    return MSEnew, loss_history, b1_batch, b0_batch, BreakCondition \n",
    "\n",
    "MSEnew_batch, loss_history_batch, b1_batch, b0_batch, BreakCondition = checkfun_batch(x_batch,y_batch,b0_batch,b1_batch,max_iter=100)\n",
    "print(b1_batch)\n",
    "print(b0_batch)\n",
    "print(BreakCondition)\n",
    "print(\"My Theta0 from mini_batch is: \" + str(b0_batch) + \" and my Theta1 from mini_batch is:\" + str(b1_batch))\n",
    "plt.xlabel(\"Iteration\")\n",
    "plt.ylabel(\"Loss\")\n",
    "plt.plot(np.arange(len(loss_history_batch)), loss_history_batch)"
   ]
  },
  {
   "cell_type": "code",
   "execution_count": 26,
   "metadata": {},
   "outputs": [
    {
     "name": "stdout",
     "output_type": "stream",
     "text": [
      "1.2376603528628431\n",
      "0.01520461446957262\n"
     ]
    },
    {
     "data": {
      "text/plain": [
       "[<matplotlib.lines.Line2D at 0x1db9e188e08>]"
      ]
     },
     "execution_count": 26,
     "metadata": {},
     "output_type": "execute_result"
    },
    {
     "data": {
      "image/png": "[encoded data removed]",
      "text/plain": [
       "<Figure size 432x288 with 1 Axes>"
      ]
     },
     "metadata": {
      "needs_background": "light"
     },
     "output_type": "display_data"
    }
   ],
   "source": [
    "plt.scatter(x,y, alpha = 0.4)\n",
    "xnew = np.array(range(40,80))\n",
    "print(b1_batch)\n",
    "print(b0_batch)\n",
    "ynew = b1_batch*xnew + b0_batch\n",
    "plt.plot(xnew,ynew, c=\"red\")"
   ]
  },
  {
   "cell_type": "code",
   "execution_count": 27,
   "metadata": {},
   "outputs": [],
   "source": [
    "#Iterations for full batch is slower and iterations for mini-bacth \n",
    "#are faster as full batch goes over more data\n",
    "#The minibatch data does not converge as smoothly because the weights\n",
    "#are updated with less data each iteration"
   ]
  },
  {
   "cell_type": "code",
   "execution_count": null,
   "metadata": {},
   "outputs": [],
   "source": []
  }
 ],
 "metadata": {
  "kernelspec": {
   "display_name": "Python 3",
   "language": "python",
   "name": "python3"
  },
  "language_info": {
   "codemirror_mode": {
    "name": "ipython",
    "version": 3
   },
   "file_extension": ".py",
   "mimetype": "text/x-python",
   "name": "python",
   "nbconvert_exporter": "python",
   "pygments_lexer": "ipython3",
   "version": "3.7.4"
  }
 },
 "nbformat": 4,
 "nbformat_minor": 2
}
