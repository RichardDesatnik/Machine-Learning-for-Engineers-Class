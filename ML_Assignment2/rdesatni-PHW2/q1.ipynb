{
 "cells": [
  {
   "cell_type": "code",
   "execution_count": 68,
   "metadata": {},
   "outputs": [
    {
     "name": "stdout",
     "output_type": "stream",
     "text": [
      "[[[2 6 4 1]\n",
      "  [0 4 4 3]\n",
      "  [6 6 1 2]\n",
      "  [7 0 6 5]]\n",
      "\n",
      " [[1 3 3 7]\n",
      "  [4 7 2 5]\n",
      "  [0 4 6 7]\n",
      "  [5 5 7 1]]\n",
      "\n",
      " [[7 2 4 5]\n",
      "  [6 7 7 0]\n",
      "  [6 2 0 4]\n",
      "  [2 0 7 6]]]\n",
      "(3, 4, 4)\n",
      "(array([0, 0, 0, 1, 1, 2, 2], dtype=int64), array([0, 1, 1, 1, 2, 0, 2], dtype=int64), array([2, 1, 2, 0, 1, 2, 3], dtype=int64))\n",
      "[[[2 6 4 1 2 6 4 1]\n",
      "  [0 4 4 3 0 4 4 3]\n",
      "  [6 6 1 2 6 6 1 2]\n",
      "  [7 0 6 5 7 0 6 5]\n",
      "  [2 6 4 1 2 6 4 1]\n",
      "  [0 4 4 3 0 4 4 3]\n",
      "  [6 6 1 2 6 6 1 2]\n",
      "  [7 0 6 5 7 0 6 5]]\n",
      "\n",
      " [[1 3 3 7 1 3 3 7]\n",
      "  [4 7 2 5 4 7 2 5]\n",
      "  [0 4 6 7 0 4 6 7]\n",
      "  [5 5 7 1 5 5 7 1]\n",
      "  [1 3 3 7 1 3 3 7]\n",
      "  [4 7 2 5 4 7 2 5]\n",
      "  [0 4 6 7 0 4 6 7]\n",
      "  [5 5 7 1 5 5 7 1]]\n",
      "\n",
      " [[7 2 4 5 7 2 4 5]\n",
      "  [6 7 7 0 6 7 7 0]\n",
      "  [6 2 0 4 6 2 0 4]\n",
      "  [2 0 7 6 2 0 7 6]\n",
      "  [7 2 4 5 7 2 4 5]\n",
      "  [6 7 7 0 6 7 7 0]\n",
      "  [6 2 0 4 6 2 0 4]\n",
      "  [2 0 7 6 2 0 7 6]]]\n",
      "(3, 8, 8)\n",
      "[[10 11 11 13 10 11 11 13]\n",
      " [10 18 13  8 10 18 13  8]\n",
      " [12 12  7 13 12 12  7 13]\n",
      " [14  5 20 12 14  5 20 12]\n",
      " [10 11 11 13 10 11 11 13]\n",
      " [10 18 13  8 10 18 13  8]\n",
      " [12 12  7 13 12 12  7 13]\n",
      " [14  5 20 12 14  5 20 12]]\n",
      "(8, 8)\n"
     ]
    }
   ],
   "source": [
    "import numpy as np\n",
    "import time  \n",
    "\n",
    "np.random.seed(24787)\n",
    "a = np.random.randint(8, size=(3,4,4))\n",
    "#Question1.a \"Print a\"\n",
    "print(a)\n",
    "#Question1.a \"Print shape of a\"\n",
    "print(a.shape)\n",
    "#Question1.a \"Locate the locations of all the fours in the array a print out the row and column indices\"\n",
    "find = np.where(a == 4)\n",
    "print(find)\n",
    "#Question1.b \n",
    "b = np.tile(a, (2,2))\n",
    "print(b)\n",
    "print(b.shape)\n",
    "#Question1.c \"Sum of c in depth of b\"\n",
    "#Size should be a depth of 1, 8 by 8\n",
    "c = b.sum(axis=0)\n",
    "print(c)\n",
    "print(c.shape)\n",
    "\n"
   ]
  },
  {
   "cell_type": "code",
   "execution_count": 69,
   "metadata": {},
   "outputs": [
    {
     "name": "stdout",
     "output_type": "stream",
     "text": [
      "<class 'numpy.ndarray'>\n",
      "Good to Go\n",
      "[[262.02681889 250.35010895 255.20209698 ... 255.11959541 248.13659427\n",
      "  246.60845719]\n",
      " [267.28382531 248.10413271 253.0417709  ... 255.93196541 253.71831423\n",
      "  246.48668303]\n",
      " [268.78477885 252.60592752 268.07751687 ... 262.21855106 259.70257958\n",
      "  254.42145539]\n",
      " ...\n",
      " [256.28928623 241.29542559 253.63761207 ... 255.58972957 248.44848129\n",
      "  245.45765948]\n",
      " [261.245718   248.87670911 259.54001149 ... 257.58727381 252.51065398\n",
      "  250.76435101]\n",
      " [256.55021563 242.88337935 249.70633094 ... 251.16608605 245.52951864\n",
      "  237.41175273]]\n",
      "[[262.02681889 250.35010895 255.20209698 ... 255.11959541 248.13659427\n",
      "  246.60845719]\n",
      " [267.28382531 248.10413271 253.0417709  ... 255.93196541 253.71831423\n",
      "  246.48668303]\n",
      " [268.78477885 252.60592752 268.07751687 ... 262.21855106 259.70257958\n",
      "  254.42145539]\n",
      " ...\n",
      " [256.28928623 241.29542559 253.63761207 ... 255.58972957 248.44848129\n",
      "  245.45765948]\n",
      " [261.245718   248.87670911 259.54001149 ... 257.58727381 252.51065398\n",
      "  250.76435101]\n",
      " [256.55021563 242.88337935 249.70633094 ... 251.16608605 245.52951864\n",
      "  237.41175273]]\n",
      "Time required to execute: 4.343714237213135s\n"
     ]
    }
   ],
   "source": [
    "#Question1.d (Complete the multiplication)\n",
    "np.random.seed(24787)\n",
    "#a = np.array([[1, 2, 3],[4, 5, 6],[7, 8, 9]])\n",
    "#b = np.array([[10, 11, 12],[13, 14, 15],[16, 17, 18]])\n",
    "#a = np.random.random((100,100))\n",
    "#b = np.random.random((100,100))\n",
    "a = np.random.random((1000,1000))\n",
    "b = np.random.random((1000,1000))\n",
    "print(type(a))\n",
    "\n",
    "def matmal(Matrix1=None,Matrix2=None):\n",
    "    start = time.time()\n",
    "    na,ma = a.shape \n",
    "    nb,mb = b.shape\n",
    "    NewMatrixRow = []\n",
    "    NewMatrixCol = []\n",
    "    if Matrix1.shape[1] != Matrix2.shape[0]:\n",
    "        print(\"Matrices are not the right size\")\n",
    "        new = None\n",
    "    else:\n",
    "        print(\"Good to Go\") \n",
    "        for cvalue in range(mb):\n",
    "            for rvalue in range(na):\n",
    "                desiredvalue = np.dot(a[cvalue,:],b[:,rvalue])\n",
    "                NewMatrixRow.append(desiredvalue)\n",
    "            NewMatrixCol.append(NewMatrixRow)\n",
    "            NewMatrixRow = []\n",
    "    new2 = np.array(NewMatrixCol)\n",
    "    print(new2)  \n",
    "    slow = time.time() - start\n",
    "\n",
    "    return new2,slow\n",
    "\n",
    "cQuestion,slow = matmal(a,b)\n",
    "\n",
    "print(cQuestion)\n",
    "print(\"Time required to execute: \" + str(slow) + \"s\")\n"
   ]
  },
  {
   "cell_type": "code",
   "execution_count": 70,
   "metadata": {},
   "outputs": [
    {
     "name": "stdout",
     "output_type": "stream",
     "text": [
      "[[262.02681889 250.35010895 255.20209698 ... 255.11959541 248.13659427\n",
      "  246.60845719]\n",
      " [267.28382531 248.10413271 253.0417709  ... 255.93196541 253.71831423\n",
      "  246.48668303]\n",
      " [268.78477885 252.60592752 268.07751687 ... 262.21855106 259.70257958\n",
      "  254.42145539]\n",
      " ...\n",
      " [256.28928623 241.29542559 253.63761207 ... 255.58972957 248.44848129\n",
      "  245.45765948]\n",
      " [261.245718   248.87670911 259.54001149 ... 257.58727381 252.51065398\n",
      "  250.76435101]\n",
      " [256.55021563 242.88337935 249.70633094 ... 251.16608605 245.52951864\n",
      "  237.41175273]]\n",
      "Time required to execute: 0.009966850280761719s\n",
      "True\n"
     ]
    }
   ],
   "source": [
    "np.random.seed(24787)\n",
    "a = np.random.random((1000,1000))\n",
    "b = np.random.random((1000,1000))\n",
    "\n",
    "start = time.time()\n",
    "cCheck = a@b\n",
    "print(cCheck)\n",
    "print(\"Time required to execute: \" + str((time.time() - start)) + \"s\")\n",
    "print(bool(np.sum(cQuestion) == np.sum(cCheck)))"
   ]
  },
  {
   "cell_type": "code",
   "execution_count": null,
   "metadata": {},
   "outputs": [],
   "source": [
    "#The time required for the @ symbol is faster because numpy is written in C which is computationally faster then the code I have written in Python because the @ command is written in CPython  "
   ]
  },
  {
   "cell_type": "code",
   "execution_count": null,
   "metadata": {},
   "outputs": [],
   "source": []
  },
  {
   "cell_type": "code",
   "execution_count": null,
   "metadata": {},
   "outputs": [],
   "source": []
  }
 ],
 "metadata": {
  "kernelspec": {
   "display_name": "Python 3",
   "language": "python",
   "name": "python3"
  },
  "language_info": {
   "codemirror_mode": {
    "name": "ipython",
    "version": 3
   },
   "file_extension": ".py",
   "mimetype": "text/x-python",
   "name": "python",
   "nbconvert_exporter": "python",
   "pygments_lexer": "ipython3",
   "version": "3.7.4"
  }
 },
 "nbformat": 4,
 "nbformat_minor": 2
}
