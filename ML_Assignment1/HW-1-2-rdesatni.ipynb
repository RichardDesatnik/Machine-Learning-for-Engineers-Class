{
 "cells": [
  {
   "cell_type": "code",
   "execution_count": 1,
   "metadata": {},
   "outputs": [
    {
     "name": "stdout",
     "output_type": "stream",
     "text": [
      "True\n",
      "True\n",
      "True\n",
      "False\n",
      "True\n"
     ]
    }
   ],
   "source": [
    "#Problem2_Parta\n",
    "def includes (item, val, start_ind=0):\n",
    "    if type(item) == list:\n",
    "        #print(\"list\")\n",
    "        if val in item[start_ind:]:\n",
    "            print(True)\n",
    "        else:\n",
    "            print(False)\n",
    "    elif type(item) == str:\n",
    "        #print(\"string\")\n",
    "        if val in item[start_ind:]:\n",
    "            print(True)\n",
    "        else:\n",
    "            print(False)\n",
    "    elif type(item) == dict:\n",
    "        #print(\"dictionary\")\n",
    "        if val in item.values():\n",
    "            print(True)\n",
    "        else:\n",
    "            print(False)\n",
    "    else:\n",
    "        print(\"Please change your item, as it is not a string, list, or dictionary\")\n",
    "\n",
    "#item = [1,2,3]\n",
    "#val = 1\n",
    "includes([2,3,4],2)\n",
    "includes([2,3,4],4)\n",
    "includes({'a':1,'b':2},1)\n",
    "includes({'a':1,'b':2},'a')\n",
    "includes('abcd','b')\n",
    "\n"
   ]
  },
  {
   "cell_type": "code",
   "execution_count": 2,
   "metadata": {},
   "outputs": [
    {
     "name": "stdout",
     "output_type": "stream",
     "text": [
      "10.0\n",
      "10.5\n",
      "11.0\n"
     ]
    }
   ],
   "source": [
    "#Problem2_Partb\n",
    "avglist = []\n",
    "def moving_average(newvalue):\n",
    "    avglist.append(newvalue)\n",
    "    n = len(avglist)\n",
    "    total = sum(avglist)\n",
    "    avg = (total/n)\n",
    "    navg = round(avg,1)\n",
    "    return navg\n",
    "\n",
    "mAvg = print(moving_average(10))\n",
    "#print(avglist)\n",
    "mAvg = print(moving_average(11))\n",
    "#print(avglist)\n",
    "mAvg = print(moving_average(12))\n",
    "#print(avglist)"
   ]
  },
  {
   "cell_type": "code",
   "execution_count": 3,
   "metadata": {},
   "outputs": [
    {
     "name": "stdout",
     "output_type": "stream",
     "text": [
      "Cool, you put in two numbers\n",
      "True\n",
      "Cool, you put in two numbers\n",
      "False\n",
      "Cool, you put in two numbers\n",
      "False\n",
      "Cool, you put in two numbers\n",
      "True\n",
      "please use numbers only\n"
     ]
    }
   ],
   "source": [
    "#Problem2_Partc\n",
    "def same_frequency(num1,num2):\n",
    "    if type(num1) != int or type(num2) != int:\n",
    "        print(\"please use numbers only\")\n",
    "    else:\n",
    "        print(\"Cool, you put in two numbers\")\n",
    "        num1 = str(num1)\n",
    "        num2 = str(num2)\n",
    "        dictnum1 = {\"1\": num1.count(\"1\"), \"2\": num1.count(\"2\"), \"3\":num1.count(\"3\"), \"4\":num1.count(\"4\"), \"5\":num1.count(\"5\"), \"6\":num1.count(\"6\"), \"7\":num1.count(\"7\"), \"8\":num1.count(\"8\"), \"9\":num1.count(\"9\"), \"0\":num1.count(\"0\")}\n",
    "        dictnum2 = {\"1\": num1.count(\"1\"), \"2\": num2.count(\"2\"), \"3\":num2.count(\"3\"), \"4\":num2.count(\"4\"), \"5\":num2.count(\"5\"), \"6\":num2.count(\"6\"), \"7\":num2.count(\"7\"), \"8\":num2.count(\"8\"), \"9\":num2.count(\"9\"), \"0\":num2.count(\"0\")}\n",
    "        if dictnum1 == dictnum2: \n",
    "            print(True)\n",
    "        else:\n",
    "            print(False)\n",
    "same_frequency(552211,221515)\n",
    "same_frequency(321142,3212215)\n",
    "same_frequency(12345,31354)\n",
    "same_frequency(1212,2211)\n",
    "same_frequency(2,\"two\")"
   ]
  },
  {
   "cell_type": "code",
   "execution_count": 5,
   "metadata": {},
   "outputs": [
    {
     "data": {
      "text/plain": [
       "<matplotlib.collections.PathCollection at 0x218f1ada648>"
      ]
     },
     "execution_count": 5,
     "metadata": {},
     "output_type": "execute_result"
    },
    {
     "data": {
      "image/png": "[encoded data removed]",
      "text/plain": [
       "<Figure size 432x288 with 1 Axes>"
      ]
     },
     "metadata": {
      "needs_background": "light"
     },
     "output_type": "display_data"
    }
   ],
   "source": [
    "#Problem2_Partd\n",
    "import numpy as np \n",
    "import matplotlib.pyplot as plt\n",
    "i=0\n",
    "c=0\n",
    "n=0\n",
    "m=0\n",
    "Doc = np.load(\"C:\\\\Users\\\\rdesa\\\\OneDrive\\\\Desktop\\\\Assigment_1 (2)\\\\kmeans.npz\")\n",
    "DATA = Doc['data']\n",
    "PRED = Doc['pred']\n",
    "CENTERS = Doc['centers']\n",
    "xblist = []\n",
    "yblist = []\n",
    "xylist = []\n",
    "yylist = []\n",
    "xglist = []\n",
    "yglist = []\n",
    "xprlist = []\n",
    "yprlist = []\n",
    "xclist = []\n",
    "yclist = []\n",
    "xplist = []\n",
    "for value in PRED:\n",
    "    xplist.append(value)\n",
    "\n",
    "for value in DATA[0:]:\n",
    "    if xplist[i] == 0: \n",
    "        xblist.append(float(value[0]))\n",
    "        yblist.append(float(value[1]))\n",
    "    else:\n",
    "        None\n",
    "    i = i+1\n",
    "for value in DATA[0:]:\n",
    "    if xplist[n] == 1:\n",
    "        xylist.append(float(value[0]))\n",
    "        yylist.append(float(value[1]))\n",
    "    else:\n",
    "        None\n",
    "    n = n + 1\n",
    "for value in DATA[0:]:\n",
    "    if xplist[m] == 2:\n",
    "        xglist.append(float(value[0]))\n",
    "        yglist.append(float(value[1]))\n",
    "    else:\n",
    "        None\n",
    "    m = m+1\n",
    "for value in DATA[0:]:\n",
    "    if xplist[c] == 3:\n",
    "        xprlist.append(float(value[0]))\n",
    "        yprlist.append(float(value[1]))\n",
    "    else:\n",
    "        None\n",
    "    c = c+1\n",
    "for value in CENTERS[0:]:\n",
    "    xclist.append(float(value[0]))\n",
    "    yclist.append(float(value[1]))\n",
    "\n",
    "#print(len(xlist))\n",
    "#print(len(ylist))\n",
    "\n",
    "plt.scatter(xblist,yblist, c = \"blue\", alpha = 0.5)\n",
    "plt.scatter(xylist,yylist, c = \"yellow\", alpha = 0.5)\n",
    "plt.scatter(xglist,yglist, c = \"green\", alpha = 0.5)\n",
    "plt.scatter(xprlist,yprlist, c=\"purple\", alpha = 0.5)\n",
    "plt.scatter(xclist,yclist, c=\"red\")\n"
   ]
  },
  {
   "cell_type": "code",
   "execution_count": 6,
   "metadata": {},
   "outputs": [
    {
     "name": "stdout",
     "output_type": "stream",
     "text": [
      "[[ 288116.  433466.  322354. ...  234498.  459306.  323646.]\n",
      " [ 214972.  323422.  240518. ...  174966.  342702.  241482.]\n",
      " [-312200. -469700. -349300. ... -254100. -497700. -350700.]\n",
      " ...\n",
      " [ 180184.  271084.  201596. ...  146652.  287244.  202404.]\n",
      " [ -66454.  -99979.  -74351. ...  -54087. -105939.  -74649.]\n",
      " [ 203376.  305976.  227544. ...  165528.  324216.  228456.]]\n"
     ]
    }
   ],
   "source": [
    "#Problem2_Parte\n",
    "import numpy as np\n",
    "#v = np.array([1,3,8,7])\n",
    "#u = np.array([2,9,6,5])\n",
    "np.random.seed(24787)\n",
    "X = np.random.randint(-1000,1000, size=3000)\n",
    "Y = np.random.randint(-1000,1000, size=3000)\n",
    "def NUMPY_outer(v,u):\n",
    "    (lenx,) = v.shape\n",
    "    (leny,) = u.shape\n",
    "    ONE = np.ones((lenx,leny))\n",
    "    unew = np.reshape(v,(1,leny))\n",
    "    utranspose = unew.T\n",
    "    check = np.multiply(u,ONE)\n",
    "    finalanswer = np.multiply(check,utranspose)\n",
    "    print(finalanswer)\n",
    "    return finalanswer \n",
    "\n",
    "result = NUMPY_outer(X,Y)\n",
    "#print(result)"
   ]
  },
  {
   "cell_type": "code",
   "execution_count": 7,
   "metadata": {},
   "outputs": [
    {
     "data": {
      "text/plain": [
       "array([[ 288116,  433466,  322354, ...,  234498,  459306,  323646],\n",
       "       [ 214972,  323422,  240518, ...,  174966,  342702,  241482],\n",
       "       [-312200, -469700, -349300, ..., -254100, -497700, -350700],\n",
       "       ...,\n",
       "       [ 180184,  271084,  201596, ...,  146652,  287244,  202404],\n",
       "       [ -66454,  -99979,  -74351, ...,  -54087, -105939,  -74649],\n",
       "       [ 203376,  305976,  227544, ...,  165528,  324216,  228456]])"
      ]
     },
     "execution_count": 7,
     "metadata": {},
     "output_type": "execute_result"
    }
   ],
   "source": [
    "#Checking problem 2e\n",
    "np.random.seed(24787)\n",
    "X = np.random.randint(-1000,1000, size=3000)\n",
    "Y = np.random.randint(-1000,1000, size=3000)\n",
    "np.outer(X,Y)\n",
    "    "
   ]
  },
  {
   "cell_type": "code",
   "execution_count": null,
   "metadata": {},
   "outputs": [],
   "source": []
  }
 ],
 "metadata": {
  "kernelspec": {
   "display_name": "Python 3",
   "language": "python",
   "name": "python3"
  },
  "language_info": {
   "codemirror_mode": {
    "name": "ipython",
    "version": 3
   },
   "file_extension": ".py",
   "mimetype": "text/x-python",
   "name": "python",
   "nbconvert_exporter": "python",
   "pygments_lexer": "ipython3",
   "version": "3.7.4"
  }
 },
 "nbformat": 4,
 "nbformat_minor": 2
}
