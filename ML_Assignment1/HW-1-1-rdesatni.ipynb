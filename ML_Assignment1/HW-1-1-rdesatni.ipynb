{
 "cells": [
  {
   "cell_type": "code",
   "execution_count": 1,
   "metadata": {},
   "outputs": [
    {
     "name": "stdout",
     "output_type": "stream",
     "text": [
      "skip\n",
      "This is b1: 1.7191780821917806\n",
      "This is b0: 4.273972602739727\n",
      "Solution: y=4.273972602739727+1.7191780821917806x\n"
     ]
    }
   ],
   "source": [
    "#Problem1_PartB\n",
    "\n",
    "import csv\n",
    "i = 0\n",
    "xlist= [] \n",
    "ylist= [] \n",
    "sumxylist = [] \n",
    "xsquarelist = []\n",
    "ysquarelist = [] \n",
    "with open('C:\\\\Users\\\\rdesa\\\\OneDrive\\\\Desktop\\\\MLAI_Hmk1\\\\MLAI_Hmkb2.csv') as csv_file: \n",
    "    csv_reader = csv.reader(csv_file, delimiter=',')\n",
    "    for row in csv_reader:\n",
    "        if row[0] == 'X':\n",
    "            print(\"skip\")\n",
    "        else:\n",
    "            x = float(row[0])\n",
    "            y = float(row[1])\n",
    "            xy = x*y\n",
    "            xsquare = x**2\n",
    "            ysquare = y**2\n",
    "            xlist.append(float(row[0]))\n",
    "            ylist.append(float(row[1]))\n",
    "            sumxylist.append(x*y)\n",
    "            xsquarelist.append(x**2)\n",
    "            ysquarelist.append(y**2)\n",
    "            \n",
    "n = len(xlist)\n",
    "xsum = sum(xlist)\n",
    "ysum = sum(ylist)\n",
    "xylistsum = sum(sumxylist)\n",
    "xsquaresum = sum(xsquarelist)\n",
    "p = (ysum/n)\n",
    "q = (xsum/n)\n",
    "r = (xylistsum)/xsquaresum\n",
    "s = xsum/xsquaresum\n",
    "b1 = (r-(s*p))/(1-(s*q))\n",
    "b0 = p-(q*b1)\n",
    "print(\"This is b1: \" + str(b1))\n",
    "print(\"This is b0: \" + str(b0))\n",
    "print(\"Solution: y=\" + str(b0) + \"+\" + str(b1) + \"x\")"
   ]
  },
  {
   "cell_type": "code",
   "execution_count": 3,
   "metadata": {},
   "outputs": [
    {
     "name": "stdout",
     "output_type": "stream",
     "text": [
      "skip\n",
      "This is b1: -0.44236913850438125\n",
      "This is b0: 4.080657141896113\n",
      "Solution: y=4.080657141896113+-0.44236913850438125x\n"
     ]
    }
   ],
   "source": [
    "#Problem1_PartC\n",
    "import csv\n",
    "i = 0\n",
    "xlist= [] \n",
    "ylist= [] \n",
    "sumxylist = [] \n",
    "xsquarelist = []\n",
    "ysquarelist = [] \n",
    "#with open('C:\\\\Users\\\\rdesa\\\\OneDrive\\\\Desktop\\\\Recitation 1\\\\data.csv') as csv_file: \n",
    "with open('data.csv') as csv_file: \n",
    "    csv_reader = csv.reader(csv_file, delimiter=',')\n",
    "    for row in csv_reader:\n",
    "        if row[0] == 'X':\n",
    "            print(\"skip\")\n",
    "        else:\n",
    "            x = float(row[0])\n",
    "            y = float(row[1])\n",
    "            xy = x*y\n",
    "            xsquare = x**2\n",
    "            ysquare = y**2\n",
    "            xlist.append(float(row[0]))\n",
    "            ylist.append(float(row[1]))\n",
    "            sumxylist.append(x*y)\n",
    "            xsquarelist.append(x**2)\n",
    "            ysquarelist.append(y**2)\n",
    "            \n",
    "n = len(xlist)\n",
    "xsum = sum(xlist)\n",
    "ysum = sum(ylist)\n",
    "xylistsum = sum(sumxylist)\n",
    "xsquaresum = sum(xsquarelist)\n",
    "ysquaresum = sum(ysquarelist)\n",
    "p = (ysum/n)\n",
    "q = (xsum/n)\n",
    "r = (xylistsum)/xsquaresum\n",
    "s = xsum/xsquaresum\n",
    "b1 = (r-(s*p))/(1-(s*q))\n",
    "b0 = p-(q*b1)\n",
    "print(\"This is b1: \" + str(b1))\n",
    "print(\"This is b0: \" + str(b0))\n",
    "print(\"Solution: y=\" + str(b0) + \"+\" + str(b1) + \"x\")"
   ]
  },
  {
   "cell_type": "code",
   "execution_count": null,
   "metadata": {},
   "outputs": [],
   "source": []
  }
 ],
 "metadata": {
  "kernelspec": {
   "display_name": "Python 3",
   "language": "python",
   "name": "python3"
  },
  "language_info": {
   "codemirror_mode": {
    "name": "ipython",
    "version": 3
   },
   "file_extension": ".py",
   "mimetype": "text/x-python",
   "name": "python",
   "nbconvert_exporter": "python",
   "pygments_lexer": "ipython3",
   "version": "3.7.4"
  }
 },
 "nbformat": 4,
 "nbformat_minor": 2
}
